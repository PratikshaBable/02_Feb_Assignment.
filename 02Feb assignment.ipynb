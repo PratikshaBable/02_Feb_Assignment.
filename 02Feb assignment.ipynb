{
 "cells": [
  {
   "cell_type": "raw",
   "id": "4f23afb8-5e43-4fb7-9982-8120fb20a426",
   "metadata": {},
   "source": [
    "Both for loops and while loops are used for iteration in Python, but they are used in different situations. Here are some examples to illustrate when to use each type of loop:\n",
    "\n",
    "When to use a for loop:\n",
    "A for loop is used when we want to execute a block of code a specific number of times, or when we want to iterate over a collection of items such as a list, tuple, string, or dictionary. For loops are typically used when the number of iterations is known in advance or can be easily calculated. Here's an example:"
   ]
  },
  {
   "cell_type": "code",
   "execution_count": null,
   "id": "a52c57f9-ad55-4e16-aaf5-370f0bf4a10f",
   "metadata": {},
   "outputs": [],
   "source": [
    "# Use a for loop to print the numbers from 1 to 5\n",
    "for i in range(1, 6):\n",
    "    print(i)\n",
    "#In this example, we use a for loop to iterate over the range of numbers from 1 to 5, and we print each number in turn. The for loop is a good choice here because we know in advance how many times we want to iterate."
   ]
  },
  {
   "cell_type": "raw",
   "id": "2abfacac-2774-4fb5-b31e-b85a962ddf94",
   "metadata": {},
   "source": [
    "When to use a while loop:\n",
    "A while loop is used when we want to execute a block of code repeatedly as long as a certain condition is true. While loops are typically used when we don't know in advance how many iterations we need to perform, or when the number of iterations depends on some external factor such as user input or data from a file. Here's an example:"
   ]
  },
  {
   "cell_type": "code",
   "execution_count": null,
   "id": "6314870c-3255-4892-ae63-35e3a277426a",
   "metadata": {},
   "outputs": [],
   "source": [
    "# Use a while loop to prompt the user for a password until they enter the correct one\n",
    "password = \"\"\n",
    "while password != \"letmein\":\n",
    "    password = input(\"Enter the password: \")\n",
    "print(\"Access granted.\")\n",
    "#In this example, we use a while loop to repeatedly prompt the user to enter a password until they enter the correct one (\"letmein\"). The while loop is a good choice here because we don't know in advance how many times we'll need to prompt the user, and we want to keep prompting them until they enter the correct password."
   ]
  },
  {
   "cell_type": "code",
   "execution_count": 1,
   "id": "be01f3ba-ad0a-4095-8000-3f6b3cb02af5",
   "metadata": {},
   "outputs": [
    {
     "name": "stdout",
     "output_type": "stream",
     "text": [
      "55 3628800\n"
     ]
    }
   ],
   "source": [
    "sum = 0\n",
    "product = 1\n",
    "for i in range(1,11):\n",
    "    sum = sum + i\n",
    "    product = product * i\n",
    "print(sum, product)\n",
    "    "
   ]
  },
  {
   "cell_type": "code",
   "execution_count": 2,
   "id": "4815eb0e-5b0d-43e3-9797-b870a8963405",
   "metadata": {},
   "outputs": [
    {
     "name": "stdout",
     "output_type": "stream",
     "text": [
      "55 3628800\n"
     ]
    }
   ],
   "source": [
    "sum = 0\n",
    "product = 1\n",
    "i = 1\n",
    "while(i<11):\n",
    "    sum = sum + i\n",
    "    product = product * i\n",
    "    i+=1\n",
    "print(sum, product)"
   ]
  },
  {
   "cell_type": "code",
   "execution_count": 3,
   "id": "7785029f-6675-4f32-9f8f-88c6671a1fdc",
   "metadata": {},
   "outputs": [
    {
     "name": "stdin",
     "output_type": "stream",
     "text": [
      "Enter the units of electricity consumed in a month:  310\n"
     ]
    },
    {
     "name": "stdout",
     "output_type": "stream",
     "text": [
      "The electricity bill for the month is Rs. 2250.0\n"
     ]
    }
   ],
   "source": [
    "units = int(input(\"Enter the units of electricity consumed in a month: \"))\n",
    "bill = 0\n",
    "if units <= 100:\n",
    "    bill = units * 4.5\n",
    "elif units <= 200:\n",
    "    bill = 100 * 4.5 + (units - 100) * 6\n",
    "elif units <= 300:\n",
    "    bill = 100 * 4.5 + 100 * 6 + (units - 200) * 10\n",
    "else:\n",
    "    bill = 100 * 4.5 + 100 * 6 + 100 * 10 + (units - 300) * 20\n",
    "print(\"The electricity bill for the month is Rs.\", bill)\n"
   ]
  },
  {
   "cell_type": "code",
   "execution_count": 4,
   "id": "2dc267c9-711b-4afa-b7fc-447d08196f52",
   "metadata": {},
   "outputs": [
    {
     "data": {
      "text/plain": [
       "[2,\n",
       " 4,\n",
       " 5,\n",
       " 6,\n",
       " 8,\n",
       " 10,\n",
       " 12,\n",
       " 14,\n",
       " 15,\n",
       " 16,\n",
       " 18,\n",
       " 20,\n",
       " 22,\n",
       " 24,\n",
       " 25,\n",
       " 26,\n",
       " 28,\n",
       " 30,\n",
       " 32,\n",
       " 34,\n",
       " 35,\n",
       " 36,\n",
       " 38,\n",
       " 40,\n",
       " 42,\n",
       " 44,\n",
       " 45,\n",
       " 46,\n",
       " 48,\n",
       " 50,\n",
       " 52,\n",
       " 54,\n",
       " 55,\n",
       " 56,\n",
       " 58,\n",
       " 60,\n",
       " 62,\n",
       " 64,\n",
       " 65,\n",
       " 66,\n",
       " 68,\n",
       " 70,\n",
       " 72,\n",
       " 74,\n",
       " 75,\n",
       " 76,\n",
       " 78,\n",
       " 80,\n",
       " 82,\n",
       " 84,\n",
       " 85,\n",
       " 86,\n",
       " 88,\n",
       " 90,\n",
       " 92,\n",
       " 94,\n",
       " 95,\n",
       " 96,\n",
       " 98,\n",
       " 100]"
      ]
     },
     "execution_count": 4,
     "metadata": {},
     "output_type": "execute_result"
    }
   ],
   "source": [
    "l = []\n",
    "for i in range(1,101):\n",
    "    cube = i**3\n",
    "    if(cube%4 == 0 or cube%5==0):\n",
    "        l.append(i)\n",
    "l"
   ]
  },
  {
   "cell_type": "code",
   "execution_count": 5,
   "id": "c4f7df6f-10be-4b61-b2cf-d5a8ef1d9984",
   "metadata": {},
   "outputs": [
    {
     "data": {
      "text/plain": [
       "[2,\n",
       " 4,\n",
       " 5,\n",
       " 6,\n",
       " 8,\n",
       " 10,\n",
       " 12,\n",
       " 14,\n",
       " 15,\n",
       " 16,\n",
       " 18,\n",
       " 20,\n",
       " 22,\n",
       " 24,\n",
       " 25,\n",
       " 26,\n",
       " 28,\n",
       " 30,\n",
       " 32,\n",
       " 34,\n",
       " 35,\n",
       " 36,\n",
       " 38,\n",
       " 40,\n",
       " 42,\n",
       " 44,\n",
       " 45,\n",
       " 46,\n",
       " 48,\n",
       " 50,\n",
       " 52,\n",
       " 54,\n",
       " 55,\n",
       " 56,\n",
       " 58,\n",
       " 60,\n",
       " 62,\n",
       " 64,\n",
       " 65,\n",
       " 66,\n",
       " 68,\n",
       " 70,\n",
       " 72,\n",
       " 74,\n",
       " 75,\n",
       " 76,\n",
       " 78,\n",
       " 80,\n",
       " 82,\n",
       " 84,\n",
       " 85,\n",
       " 86,\n",
       " 88,\n",
       " 90,\n",
       " 92,\n",
       " 94,\n",
       " 95,\n",
       " 96,\n",
       " 98,\n",
       " 100]"
      ]
     },
     "execution_count": 5,
     "metadata": {},
     "output_type": "execute_result"
    }
   ],
   "source": [
    "i = 1\n",
    "l = []\n",
    "while(i<101):\n",
    "    cube = i**3\n",
    "    if(cube%4 == 0 or cube%5 == 0):\n",
    "        l.append(i)\n",
    "    i+=1\n",
    "l"
   ]
  },
  {
   "cell_type": "code",
   "execution_count": 6,
   "id": "147b8af9-3d08-4030-8c1c-eb3d2c5f67a5",
   "metadata": {},
   "outputs": [
    {
     "data": {
      "text/plain": [
       "12"
      ]
     },
     "execution_count": 6,
     "metadata": {},
     "output_type": "execute_result"
    }
   ],
   "source": [
    "string = \"I want to become a data scientist\"\n",
    "count = 0\n",
    "for i in string:\n",
    "    if(i=='a' or i=='e' or i=='i' or i=='o' or i=='u' or i=='A' or i=='E' or i=='I' or i=='O' or i=='U'):\n",
    "        count+=1\n",
    "count"
   ]
  },
  {
   "cell_type": "code",
   "execution_count": null,
   "id": "5a99359e-f959-4b4c-a225-e472ab554cca",
   "metadata": {},
   "outputs": [],
   "source": []
  }
 ],
 "metadata": {
  "kernelspec": {
   "display_name": "Python 3 (ipykernel)",
   "language": "python",
   "name": "python3"
  },
  "language_info": {
   "codemirror_mode": {
    "name": "ipython",
    "version": 3
   },
   "file_extension": ".py",
   "mimetype": "text/x-python",
   "name": "python",
   "nbconvert_exporter": "python",
   "pygments_lexer": "ipython3",
   "version": "3.10.8"
  },
  "toc-showtags": false
 },
 "nbformat": 4,
 "nbformat_minor": 5
}
